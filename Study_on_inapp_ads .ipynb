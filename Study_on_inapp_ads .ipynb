{
 "cells": [
  {
   "cell_type": "markdown",
   "metadata": {},
   "source": [
    "# Study on in-app ads \n",
    "\n",
    "For this project, I'll pretend I'm working as data analysts for a company that builds Android and iOS mobile apps. This company make their apps available on Google Play and the App Store.\n",
    "\n",
    "They only build apps that are free to download and install, and their main source of revenue consists of in-app ads. This means our (the company I work for) revenue for any given app is mostly influenced by the number of users who use our app — the more users that see and engage with the ads, the better. Our goal for this project is to analyze data to help our developers understand what type of apps are likely to attract more users.\n",
    "\n",
    "To do this, we'll need to collect and analyze data about mobile apps available on Google Play and the App Store.\n",
    "\n",
    "As of September 2018, there were approximately 2 million iOS apps available on the App Store, and 2.1 million Android apps on Google Play, based on Statista's data.\n",
    "\n",
    "I will be using two datasets from kaggle: \n",
    "\n",
    "* A data set containing data about approximately 10,000 Android apps from Google Play; the data was collected in August 2018 → https://www.kaggle.com/lava18/google-play-store-apps\n",
    "\n",
    "* A data set containing data about approximately 7,000 iOS apps from the App Store; the data was collected in July 2017 → https://www.kaggle.com/ramamet4/app-store-apple-data-set-10k-apps\n",
    "\n",
    "It is important to clarify a few things in the header's row for the latest of those two. Unlike Google play's header row, AppleStore header row is not as clear, as you can see here:\n",
    "\n",
    "['id', 'track_name', 'size_bytes', 'currency', 'price', **'rating_count_tot', 'rating_count_ver'**, 'user_rating', **'user_rating_ver', 'ver', 'cont_rating'**, 'prime_genre', **'sup_devices.num', 'ipadSc_urls.num', 'lang.num', 'vpp_lic'**]\n",
    "\n",
    "That list represents all the columns this dataset has, so I will explain the ones that I think are more difficult to grasp:\n",
    "* rating_count_tot: User Rating counts (for all version)\n",
    "* rating_count_ver: User Rating counts (for current version)\n",
    "* user_rating_ver: Average User Rating value (for current version)\n",
    "* ver: Latest version code\n",
    "* cont_rating: Content Rating\n",
    "* sup_devices: Number of supporting devices\n",
    "* ipadSc_urls.num: Number of screenshots showed for display\n",
    "* lang.num: Number of supported languages\n",
    "* vpp_lic: Vpp Device Based Licensing Enabled"
   ]
  },
  {
   "cell_type": "code",
   "execution_count": 1,
   "metadata": {},
   "outputs": [],
   "source": [
    "def open_file(base_csv):\n",
    "    from csv import reader\n",
    "    \n",
    "    opened_file = open(base_csv, encoding=\"utf8\")\n",
    "    read_file = reader(opened_file)\n",
    "    dataset = list(read_file)\n",
    "    \n",
    "    return dataset    "
   ]
  },
  {
   "cell_type": "code",
   "execution_count": 2,
   "metadata": {},
   "outputs": [],
   "source": [
    "def explore_data(dataset, start, end, rows_and_columns=False):\n",
    "    dataset_slice = dataset[start:end]    \n",
    "    for row in dataset_slice:\n",
    "        print(row)\n",
    "        print('\\n') # adds a new (empty) line after each row\n",
    "\n",
    "    if rows_and_columns:\n",
    "        print('Number of rows:', len(dataset))\n",
    "        print('Number of columns:', len(dataset[0]))"
   ]
  },
  {
   "cell_type": "code",
   "execution_count": 3,
   "metadata": {},
   "outputs": [
    {
     "name": "stdout",
     "output_type": "stream",
     "text": [
      "['App', 'Category', 'Rating', 'Reviews', 'Size', 'Installs', 'Type', 'Price', 'Content Rating', 'Genres', 'Last Updated', 'Current Ver', 'Android Ver']\n",
      "\n",
      "\n",
      "['Photo Editor & Candy Camera & Grid & ScrapBook', 'ART_AND_DESIGN', '4.1', '159', '19M', '10,000+', 'Free', '0', 'Everyone', 'Art & Design', 'January 7, 2018', '1.0.0', '4.0.3 and up']\n",
      "\n",
      "\n",
      "['Coloring book moana', 'ART_AND_DESIGN', '3.9', '967', '14M', '500,000+', 'Free', '0', 'Everyone', 'Art & Design;Pretend Play', 'January 15, 2018', '2.0.0', '4.0.3 and up']\n",
      "\n",
      "\n",
      "['U Launcher Lite – FREE Live Cool Themes, Hide Apps', 'ART_AND_DESIGN', '4.7', '87510', '8.7M', '5,000,000+', 'Free', '0', 'Everyone', 'Art & Design', 'August 1, 2018', '1.2.4', '4.0.3 and up']\n",
      "\n",
      "\n",
      "Number of rows: 10842\n",
      "Number of columns: 13\n",
      "\n",
      "\n",
      "----------------\n",
      "\n",
      "\n",
      "['id', 'track_name', 'size_bytes', 'currency', 'price', 'rating_count_tot', 'rating_count_ver', 'user_rating', 'user_rating_ver', 'ver', 'cont_rating', 'prime_genre', 'sup_devices.num', 'ipadSc_urls.num', 'lang.num', 'vpp_lic']\n",
      "\n",
      "\n",
      "['284882215', 'Facebook', '389879808', 'USD', '0.0', '2974676', '212', '3.5', '3.5', '95.0', '4+', 'Social Networking', '37', '1', '29', '1']\n",
      "\n",
      "\n",
      "['389801252', 'Instagram', '113954816', 'USD', '0.0', '2161558', '1289', '4.5', '4.0', '10.23', '12+', 'Photo & Video', '37', '0', '29', '1']\n",
      "\n",
      "\n",
      "['529479190', 'Clash of Clans', '116476928', 'USD', '0.0', '2130805', '579', '4.5', '4.5', '9.24.12', '9+', 'Games', '38', '5', '18', '1']\n",
      "\n",
      "\n",
      "Number of rows: 7198\n",
      "Number of columns: 16\n"
     ]
    }
   ],
   "source": [
    "google_play_dataset = open_file('googleplaystore.csv')\n",
    "applestore_dataset = open_file('AppleStore.csv')\n",
    "\n",
    "explore_data(google_play_dataset, 0, 4, rows_and_columns = True) #Just to make sure that it's working properly\n",
    "print('\\n')\n",
    "print('----------------')\n",
    "print('\\n')\n",
    "explore_data(applestore_dataset, 0, 4, rows_and_columns = True) #Just to make sure that it's working properly"
   ]
  },
  {
   "cell_type": "markdown",
   "metadata": {},
   "source": [
    "Before analysing these datasets, I need to clean the datasets, as the company I work for only build apps that are free to download and install, and that are directed toward an English-speaking audience. This means that I'll need to: \n",
    "\n",
    "* Detect inaccurate data, and correct or remove it.\n",
    "* Detect duplicate data, and remove the duplicates.\n",
    "* Remove non-English apps like 爱奇艺PPS -《欢乐颂2》电视剧热播.\n",
    "* Remove apps that aren't free.\n",
    "\n",
    "***\n",
    "\n",
    "## Data cleaning\n",
    "\n",
    "* **Inaccurate data**:\n",
    "\n",
    "It has been discused in the dataset associated with Google Play had an error, it seems like one of the rows had lesser columns than the others (it was the row 10473 excluding the header, with the header it would be 10474), so the first step was finding which one was and deleting it:\n"
   ]
  },
  {
   "cell_type": "code",
   "execution_count": 4,
   "metadata": {},
   "outputs": [
    {
     "name": "stdout",
     "output_type": "stream",
     "text": [
      "10841\n",
      "10840\n"
     ]
    }
   ],
   "source": [
    "row_number = 0\n",
    "temporary_list = google_play_dataset[1:]\n",
    "print(len(temporary_list))\n",
    "\n",
    "for each_row in temporary_list:\n",
    "    column = len(each_row)\n",
    "    if column != 13:\n",
    "        del temporary_list[row_number]\n",
    "    row_number += 1\n",
    "        \n",
    "print(len(temporary_list))"
   ]
  },
  {
   "cell_type": "markdown",
   "metadata": {},
   "source": [
    "* **Duplicated data**\n",
    "\n",
    "Running a simple script to check if each row is \"unique\" allowed me to find 1181 cases where the app appeared more than once as shown here:"
   ]
  },
  {
   "cell_type": "code",
   "execution_count": 5,
   "metadata": {},
   "outputs": [
    {
     "name": "stdout",
     "output_type": "stream",
     "text": [
      "1181\n"
     ]
    }
   ],
   "source": [
    "unique_apps = []\n",
    "duplicated_apps = []\n",
    "\n",
    "for each_app in temporary_list:\n",
    "    if each_app[0] in unique_apps:\n",
    "        duplicated_apps.append(each_app[0])\n",
    "    else:\n",
    "        unique_apps.append(each_app[0])\n",
    "\n",
    "print(len(duplicated_apps))      \n",
    "    "
   ]
  },
  {
   "cell_type": "markdown",
   "metadata": {},
   "source": [
    "So the following step was deleting those rows, which used a really similar approach, but in this case I also found that there were differences between the duplicates, and those were the ratings. That lead me to think that I should not delete randomly the data, but follow a criterion: choose the one with higher number of ratings (which would be the newest one).\n",
    "\n",
    "To do that, I will:\n",
    "\n",
    "* Create a dictionary where each key is a unique app name, and the value is the highest number of reviews of that app\n",
    "* Use the dictionary to create a new data set, which will have only one entry per app (and we only select the apps with the highest number of reviews)\n",
    "\n",
    "In a previous code cell, I found that there are 1181 cases where an app occurs more than once, so the length of the dictionary (of unique apps) should be equal to the difference between the length of our data set (10840 after removing inaccurate data) and 1181.\n",
    "    "
   ]
  },
  {
   "cell_type": "code",
   "execution_count": 6,
   "metadata": {},
   "outputs": [
    {
     "name": "stdout",
     "output_type": "stream",
     "text": [
      "Expected length: 9659\n",
      "Actual length: 9659\n"
     ]
    }
   ],
   "source": [
    "duplicated_app_ratings = {}\n",
    "\n",
    "for each_app in temporary_list:\n",
    "    name = each_app[0]\n",
    "    n_ratings = int(each_app[3])\n",
    "    if name not in duplicated_app_ratings:\n",
    "        duplicated_app_ratings[name] = n_ratings\n",
    "    elif name in unique_apps and duplicated_app_ratings[name] < n_ratings:\n",
    "        duplicated_app_ratings[name] = n_ratings\n",
    "\n",
    "\n",
    "print('Expected length:', len(temporary_list) - 1181)\n",
    "print('Actual length:', len(duplicated_app_ratings))"
   ]
  },
  {
   "cell_type": "markdown",
   "metadata": {},
   "source": [
    "Once I have the dictionary, we can begin removing the items from the temporary_list, so duplicate data gets deleted."
   ]
  },
  {
   "cell_type": "code",
   "execution_count": 7,
   "metadata": {},
   "outputs": [
    {
     "name": "stdout",
     "output_type": "stream",
     "text": [
      "9659\n"
     ]
    }
   ],
   "source": [
    "clean_dataset = []\n",
    "already_added = []\n",
    "\n",
    "for each_app in temporary_list:\n",
    "    name = each_app[0]\n",
    "    n_rating = int(each_app[3])\n",
    "    if (duplicated_app_ratings[name] == n_rating) and (name not in already_added) :\n",
    "        clean_dataset.append(each_app)\n",
    "        already_added.append(name)    \n",
    "\n",
    "print(len(clean_dataset))"
   ]
  },
  {
   "cell_type": "markdown",
   "metadata": {},
   "source": [
    "* **Removing non-English apps:**\n",
    "\n",
    "If an app name contains a character that is greater than 127, then it probably means that the app has a non-English name, therefore it should be deleted."
   ]
  },
  {
   "cell_type": "code",
   "execution_count": 16,
   "metadata": {},
   "outputs": [
    {
     "name": "stdout",
     "output_type": "stream",
     "text": [
      "9597\n",
      "6155\n"
     ]
    }
   ],
   "source": [
    "def is_english_or_not(name):\n",
    "    \n",
    "    english_app = True\n",
    "    count = 0\n",
    "    for each_char in name:\n",
    "        if ord(each_char) > 127:\n",
    "            count += 1\n",
    "            if count >= 3:\n",
    "                english_app = False\n",
    "    return english_app\n",
    "\n",
    "english_apps_cleaned = []\n",
    "non_english_apps = []\n",
    "\n",
    "ios_english_apps = []\n",
    "ios_nonen_apps = []\n",
    "\n",
    "for each_app in clean_dataset:\n",
    "    name = each_app[0]\n",
    "    is_english = is_english_or_not(name)\n",
    "    if is_english == False:\n",
    "        non_english_apps.append(each_app)\n",
    "    else: \n",
    "        english_apps_cleaned.append(each_app)        \n",
    "\n",
    "for each_app in applestore_dataset[1:]:\n",
    "    name = each_app[1]\n",
    "    is_english = is_english_or_not(name)\n",
    "    if is_english == False:\n",
    "        ios_nonen_apps.append(each_app)\n",
    "    else: \n",
    "        ios_english_apps.append(each_app)\n",
    "        \n",
    "print(len(english_apps_cleaned))\n",
    "print(len(ios_english_apps))"
   ]
  },
  {
   "cell_type": "markdown",
   "metadata": {},
   "source": [
    "* **Creating a list with only free apps:**\n",
    "\n",
    "The company only build apps that are free to download and install, and the main source of revenue consists of in-app ads. The data sets contain both free and non-free apps right now, so I will proceed and isolate only the free apps."
   ]
  },
  {
   "cell_type": "code",
   "execution_count": 97,
   "metadata": {},
   "outputs": [
    {
     "name": "stdout",
     "output_type": "stream",
     "text": [
      "8847\n",
      "3203\n"
     ]
    }
   ],
   "source": [
    "free_apps_cleaned = []\n",
    "non_free_apps = []\n",
    "\n",
    "free_ios_apps =[]\n",
    "nonfree_ios_apps = []\n",
    "\n",
    "for each_app in english_apps_cleaned:\n",
    "    price = each_app[6]\n",
    "    if price == 'Free':\n",
    "        free_apps_cleaned.append(each_app)\n",
    "    else:\n",
    "        non_free_apps.append(each_app)\n",
    "\n",
    "for each_app in ios_english_apps:\n",
    "    price = float(each_app[4])\n",
    "    if price == 0.0:\n",
    "        free_ios_apps.append(each_app)\n",
    "    else:\n",
    "        nonfree_ios_apps.append(each_app)\n",
    "\n",
    "print(len(free_apps_cleaned))\n",
    "print(len(free_ios_apps))"
   ]
  },
  {
   "cell_type": "markdown",
   "metadata": {},
   "source": [
    "***\n",
    "## Most Common Apps by Genre\n",
    "\n",
    "As we mentioned in the introduction, the aim is to determine what kinds of apps are likely to attract more users because the revenue of our company is highly influenced by the number of people using our apps. To minimize risks and overhead, our validation strategy for an app idea is comprised of three steps:\n",
    "\n",
    "* Build a minimal Android version of the app, and add it to Google Play.\n",
    "* If the app has a good response from users, we develop it further.\n",
    "* If the app is profitable after six months, we build an iOS version of the app and add it to the App Store.\n",
    "\n",
    "Because our end goal is to add the app on both Google Play and the App Store, we need to find app profiles that are successful on both markets. The analysis should begin by getting a sense of what are the most common genres for each market, so I will be building frequency tables for a few columns in these data sets."
   ]
  },
  {
   "cell_type": "code",
   "execution_count": 98,
   "metadata": {},
   "outputs": [
    {
     "name": "stdout",
     "output_type": "stream",
     "text": [
      "Google Play\n",
      "----------------\n",
      "\n",
      "\n",
      "['App', 'Category', 'Rating', 'Reviews', 'Size', 'Installs', 'Type', 'Price', 'Content Rating', 'Genres', 'Last Updated', 'Current Ver', 'Android Ver']\n",
      "\n",
      "\n",
      "['Photo Editor & Candy Camera & Grid & ScrapBook', 'ART_AND_DESIGN', '4.1', '159', '19M', '10,000+', 'Free', '0', 'Everyone', 'Art & Design', 'January 7, 2018', '1.0.0', '4.0.3 and up']\n",
      "\n",
      "\n",
      "********\n",
      "\n",
      "\n",
      "Apple Store\n",
      "----------------\n",
      "\n",
      "\n",
      "['id', 'track_name', 'size_bytes', 'currency', 'price', 'rating_count_tot', 'rating_count_ver', 'user_rating', 'user_rating_ver', 'ver', 'cont_rating', 'prime_genre', 'sup_devices.num', 'ipadSc_urls.num', 'lang.num', 'vpp_lic']\n",
      "\n",
      "\n",
      "['284882215', 'Facebook', '389879808', 'USD', '0.0', '2974676', '212', '3.5', '3.5', '95.0', '4+', 'Social Networking', '37', '1', '29', '1']\n",
      "\n",
      "\n"
     ]
    }
   ],
   "source": [
    "print('Google Play')\n",
    "print('----------------')\n",
    "print('\\n')\n",
    "explore_data(google_play_dataset, 0, 2, rows_and_columns = False)\n",
    "print('********')\n",
    "print('\\n')\n",
    "print('Apple Store')\n",
    "print('----------------')\n",
    "print('\\n')\n",
    "explore_data(applestore_dataset, 0, 2, rows_and_columns = False)"
   ]
  },
  {
   "cell_type": "markdown",
   "metadata": {},
   "source": [
    "For this, we can check what we printed at the beginning with our \"explore_data\" function. The important columns I'm going to be focusing in are going to be:\n",
    "\n",
    "* Google Play: Category (1), Rating (2), Reviews (3) and Genre (9)\n",
    "* Apple Store: rating_count_tot (5), user_rating (7) and prime_genre (11)\n",
    "\n",
    "There are two main reasons for why I chose these variables:\n",
    "\n",
    "1. Those three variables are - by definition - the same in both datasets\n",
    "2. We can verify the relation between a genre and how good it has been rated, as well as get a frequency table to see which genre is the most common. That way, with those two things we can make an educated decision.\n",
    "\n",
    "I'll build two functions to analyze the frequency tables:\n",
    "\n",
    "* One function to generate frequency tables that show percentages\n",
    "* Another function we can use to display the percentages in a descending order\n",
    "\n",
    "***\n",
    "\n",
    "### Frequency tables:\n",
    "\n",
    "Considering the fact that both datasets have different orders in their columns, you will need to pass the index."
   ]
  },
  {
   "cell_type": "code",
   "execution_count": 101,
   "metadata": {},
   "outputs": [],
   "source": [
    "def freq_tables(a_list, index):\n",
    "    freq_table = {}\n",
    "    total = 0\n",
    "    for each_app in a_list:\n",
    "        genre = each_app[index]\n",
    "        total += 1\n",
    "        if genre not in freq_table:\n",
    "            freq_table[genre] = 1\n",
    "        else:\n",
    "            freq_table[genre] += 1\n",
    "    \n",
    "    for each_app in freq_table:\n",
    "        percentage = round((freq_table[each_app] / total)*100,2)\n",
    "        freq_table[each_app] = percentage\n",
    "    \n",
    "    return freq_table\n"
   ]
  },
  {
   "cell_type": "code",
   "execution_count": 113,
   "metadata": {},
   "outputs": [
    {
     "name": "stdout",
     "output_type": "stream",
     "text": [
      "Android:\n",
      "\n",
      "\n",
      "{'ART_AND_DESIGN': 0.64, 'AUTO_AND_VEHICLES': 0.93, 'BEAUTY': 0.6, 'BOOKS_AND_REFERENCE': 2.14, 'BUSINESS': 4.6, 'COMICS': 0.61, 'COMMUNICATION': 3.23, 'DATING': 1.87, 'EDUCATION': 1.16, 'ENTERTAINMENT': 0.96, 'EVENTS': 0.71, 'FINANCE': 3.71, 'FOOD_AND_DRINK': 1.24, 'HEALTH_AND_FITNESS': 3.09, 'HOUSE_AND_HOME': 0.8, 'LIBRARIES_AND_DEMO': 0.94, 'LIFESTYLE': 3.89, 'GAME': 9.7, 'FAMILY': 18.93, 'MEDICAL': 3.54, 'SOCIAL': 2.67, 'SHOPPING': 2.25, 'PHOTOGRAPHY': 2.95, 'SPORTS': 3.39, 'TRAVEL_AND_LOCAL': 2.34, 'TOOLS': 8.45, 'PERSONALIZATION': 3.32, 'PRODUCTIVITY': 3.9, 'PARENTING': 0.66, 'WEATHER': 0.79, 'VIDEO_PLAYERS': 1.8, 'NEWS_AND_MAGAZINES': 2.8, 'MAPS_AND_NAVIGATION': 1.39}\n",
      "\n",
      "\n",
      "-----------\n",
      "\n",
      "\n",
      "{'Art & Design': 0.6, 'Art & Design;Creativity': 0.07, 'Auto & Vehicles': 0.93, 'Beauty': 0.6, 'Books & Reference': 2.14, 'Business': 4.6, 'Comics': 0.6, 'Comics;Creativity': 0.01, 'Communication': 3.23, 'Dating': 1.87, 'Education': 5.36, 'Education;Creativity': 0.05, 'Education;Education': 0.34, 'Education;Pretend Play': 0.06, 'Education;Brain Games': 0.03, 'Entertainment': 6.08, 'Entertainment;Brain Games': 0.08, 'Entertainment;Creativity': 0.03, 'Entertainment;Music & Video': 0.17, 'Events': 0.71, 'Finance': 3.71, 'Food & Drink': 1.24, 'Health & Fitness': 3.09, 'House & Home': 0.8, 'Libraries & Demo': 0.94, 'Lifestyle': 3.88, 'Lifestyle;Pretend Play': 0.01, 'Card': 0.45, 'Arcade': 1.84, 'Puzzle': 1.13, 'Racing': 0.99, 'Sports': 3.46, 'Casual': 1.76, 'Simulation': 2.05, 'Adventure': 0.67, 'Trivia': 0.42, 'Action': 3.1, 'Word': 0.26, 'Role Playing': 0.94, 'Strategy': 0.9, 'Board': 0.38, 'Music': 0.2, 'Action;Action & Adventure': 0.1, 'Casual;Brain Games': 0.14, 'Educational;Creativity': 0.03, 'Puzzle;Brain Games': 0.17, 'Educational;Education': 0.4, 'Casual;Pretend Play': 0.24, 'Educational;Brain Games': 0.07, 'Art & Design;Pretend Play': 0.01, 'Educational;Pretend Play': 0.09, 'Entertainment;Education': 0.01, 'Casual;Education': 0.02, 'Casual;Creativity': 0.07, 'Casual;Action & Adventure': 0.14, 'Music;Music & Video': 0.02, 'Arcade;Pretend Play': 0.01, 'Adventure;Action & Adventure': 0.03, 'Role Playing;Action & Adventure': 0.03, 'Simulation;Pretend Play': 0.02, 'Puzzle;Creativity': 0.02, 'Simulation;Action & Adventure': 0.08, 'Racing;Action & Adventure': 0.17, 'Sports;Action & Adventure': 0.02, 'Educational;Action & Adventure': 0.03, 'Arcade;Action & Adventure': 0.12, 'Entertainment;Action & Adventure': 0.03, 'Art & Design;Action & Adventure': 0.01, 'Puzzle;Action & Adventure': 0.03, 'Education;Action & Adventure': 0.03, 'Strategy;Action & Adventure': 0.01, 'Music & Audio;Music & Video': 0.01, 'Health & Fitness;Education': 0.01, 'Board;Action & Adventure': 0.02, 'Board;Brain Games': 0.08, 'Casual;Music & Video': 0.01, 'Education;Music & Video': 0.03, 'Role Playing;Pretend Play': 0.05, 'Entertainment;Pretend Play': 0.02, 'Medical': 3.54, 'Social': 2.67, 'Shopping': 2.25, 'Photography': 2.95, 'Travel & Local': 2.33, 'Travel & Local;Action & Adventure': 0.01, 'Tools': 8.44, 'Tools;Education': 0.01, 'Personalization': 3.32, 'Productivity': 3.9, 'Parenting': 0.5, 'Parenting;Music & Video': 0.07, 'Parenting;Education': 0.08, 'Parenting;Brain Games': 0.01, 'Weather': 0.79, 'Video Players & Editors': 1.77, 'Video Players & Editors;Music & Video': 0.02, 'Video Players & Editors;Creativity': 0.01, 'News & Magazines': 2.8, 'Maps & Navigation': 1.39, 'Health & Fitness;Action & Adventure': 0.01, 'Educational': 0.37, 'Casino': 0.42, 'Trivia;Education': 0.01, 'Lifestyle;Education': 0.01, 'Card;Action & Adventure': 0.01, 'Books & Reference;Education': 0.01, 'Simulation;Education': 0.01, 'Puzzle;Education': 0.01, 'Adventure;Education': 0.01, 'Role Playing;Brain Games': 0.01, 'Strategy;Education': 0.01, 'Racing;Pretend Play': 0.01, 'Communication;Creativity': 0.01, 'Strategy;Creativity': 0.01}\n",
      "\n",
      "\n",
      "-----------\n",
      "\n",
      "\n",
      "IOS:\n",
      "\n",
      "\n",
      "{'Social Networking': 3.31, 'Photo & Video': 5.0, 'Games': 58.26, 'Music': 2.06, 'Reference': 0.53, 'Health & Fitness': 2.03, 'Weather': 0.87, 'Utilities': 2.47, 'Travel': 1.25, 'Shopping': 2.59, 'News': 1.34, 'Navigation': 0.19, 'Lifestyle': 1.56, 'Entertainment': 7.84, 'Food & Drink': 0.81, 'Sports': 2.15, 'Book': 0.37, 'Finance': 1.09, 'Education': 3.68, 'Productivity': 1.75, 'Business': 0.53, 'Catalogs': 0.12, 'Medical': 0.19}\n"
     ]
    }
   ],
   "source": [
    "freq_table_andr_cat = freq_tables(free_apps_cleaned, 1)\n",
    "freq_table_andr_gen = freq_tables(free_apps_cleaned, 9)\n",
    "freq_table_ios = freq_tables(free_ios_apps, 11)\n",
    "\n",
    "\n",
    "print('Android:')\n",
    "print('\\n')\n",
    "print(freq_table_andr_cat)\n",
    "print('\\n')\n",
    "print('-----------')\n",
    "print('\\n')\n",
    "print(freq_table_andr_gen)\n",
    "print('\\n')\n",
    "print('-----------')\n",
    "print('\\n')\n",
    "print('IOS:')\n",
    "print('\\n')\n",
    "print(freq_table_ios)"
   ]
  },
  {
   "cell_type": "markdown",
   "metadata": {},
   "source": [
    "### Ordering the frequency tables:\n",
    "\n",
    "To be able create a descending order list with the most popular genres, I need to analyse and compare each genre to decide where it should be placed. Dictionaries per se can not be sorted, but I can generate a list of tuples with each genre and its value per row."
   ]
  },
  {
   "cell_type": "code",
   "execution_count": 123,
   "metadata": {},
   "outputs": [
    {
     "name": "stdout",
     "output_type": "stream",
     "text": [
      "\n",
      "\n",
      "IOS:\n",
      "\n",
      "\n",
      "Games: 58.26\n",
      "Entertainment: 7.84\n",
      "Photo & Video: 5.0\n",
      "Education: 3.68\n",
      "Social Networking: 3.31\n",
      "Shopping: 2.59\n",
      "Utilities: 2.47\n",
      "Sports: 2.15\n",
      "Music: 2.06\n",
      "Health & Fitness: 2.03\n",
      "Productivity: 1.75\n",
      "Lifestyle: 1.56\n",
      "News: 1.34\n",
      "Travel: 1.25\n",
      "Finance: 1.09\n",
      "Weather: 0.87\n",
      "Food & Drink: 0.81\n",
      "Reference: 0.53\n",
      "Business: 0.53\n",
      "Book: 0.37\n",
      "Navigation: 0.19\n",
      "Medical: 0.19\n",
      "Catalogs: 0.12\n"
     ]
    }
   ],
   "source": [
    "def desc_ord_list(a_dictionary):\n",
    "    a_list = []\n",
    "    for each_value in a_dictionary:\n",
    "        a_list.append((a_dictionary[each_value], each_value))\n",
    "    \n",
    "    return sorted(a_list, reverse = True)\n",
    "        \n",
    "def display_list(a_list):\n",
    "    for each_value in a_list:\n",
    "        percentage = str(each_value[0])\n",
    "        name = each_value[1]\n",
    "        print(name + \": \" + percentage)\n",
    "\n",
    "desc_ord_andr_cat = desc_ord_list(freq_table_andr_cat)\n",
    "desc_ord_andr_gen = desc_ord_list(freq_table_andr_gen)\n",
    "desc_ord_ios = desc_ord_list(freq_table_ios)\n",
    "\n",
    "print('\\n')\n",
    "print('IOS:')\n",
    "print('\\n')\n",
    "display_list(desc_ord_ios)\n"
   ]
  },
  {
   "cell_type": "markdown",
   "metadata": {},
   "source": [
    "It seems like games are the most common genre, and entertainment as a second place, but way behind games (around 51% difference).\n",
    "\n",
    "As third and fifth place we have \"Photo & Video\" and \"Social Networking\", that, in certain ways, the first is mostly made to upload content to the second. \n",
    "\n",
    "Also, the concept of \"Entertainment\" as an individual cathegory might be a little bit forced, as most games can be considered a form of entertainment as well; and aside from games, there are not many other options regarding entertainment in mobile phones that are not games. Also, the same rule - but in a lesser amount - can be applied to education, where lots of educational games can be included.\n",
    "\n",
    "So we can conclude that there is mostly a prevalence of entertainment apps over practical apps. In spite the fact that we do not really know if there are that many apps because there are a lot of users playing them or not, in this case and for the English-app market, the company may want to try developing games. However, it depends, because despite having a larger amount of users or potential customers, there is a lot of competition, whereas almost the rest of the cathegories could be better in terms of competition but with lower number of potential customers."
   ]
  },
  {
   "cell_type": "code",
   "execution_count": 124,
   "metadata": {},
   "outputs": [
    {
     "name": "stdout",
     "output_type": "stream",
     "text": [
      "Android:\n",
      "\n",
      "\n",
      "FAMILY: 18.93\n",
      "GAME: 9.7\n",
      "TOOLS: 8.45\n",
      "BUSINESS: 4.6\n",
      "PRODUCTIVITY: 3.9\n",
      "LIFESTYLE: 3.89\n",
      "FINANCE: 3.71\n",
      "MEDICAL: 3.54\n",
      "SPORTS: 3.39\n",
      "PERSONALIZATION: 3.32\n",
      "COMMUNICATION: 3.23\n",
      "HEALTH_AND_FITNESS: 3.09\n",
      "PHOTOGRAPHY: 2.95\n",
      "NEWS_AND_MAGAZINES: 2.8\n",
      "SOCIAL: 2.67\n",
      "TRAVEL_AND_LOCAL: 2.34\n",
      "SHOPPING: 2.25\n",
      "BOOKS_AND_REFERENCE: 2.14\n",
      "DATING: 1.87\n",
      "VIDEO_PLAYERS: 1.8\n",
      "MAPS_AND_NAVIGATION: 1.39\n",
      "FOOD_AND_DRINK: 1.24\n",
      "EDUCATION: 1.16\n",
      "ENTERTAINMENT: 0.96\n",
      "LIBRARIES_AND_DEMO: 0.94\n",
      "AUTO_AND_VEHICLES: 0.93\n",
      "HOUSE_AND_HOME: 0.8\n",
      "WEATHER: 0.79\n",
      "EVENTS: 0.71\n",
      "PARENTING: 0.66\n",
      "ART_AND_DESIGN: 0.64\n",
      "COMICS: 0.61\n",
      "BEAUTY: 0.6\n",
      "\n",
      "\n",
      "-----------\n",
      "\n",
      "\n",
      "Tools: 8.44\n",
      "Entertainment: 6.08\n",
      "Education: 5.36\n",
      "Business: 4.6\n",
      "Productivity: 3.9\n",
      "Lifestyle: 3.88\n",
      "Finance: 3.71\n",
      "Medical: 3.54\n",
      "Sports: 3.46\n",
      "Personalization: 3.32\n",
      "Communication: 3.23\n",
      "Action: 3.1\n",
      "Health & Fitness: 3.09\n",
      "Photography: 2.95\n",
      "News & Magazines: 2.8\n",
      "Social: 2.67\n",
      "Travel & Local: 2.33\n",
      "Shopping: 2.25\n",
      "Books & Reference: 2.14\n",
      "Simulation: 2.05\n",
      "Dating: 1.87\n",
      "Arcade: 1.84\n",
      "Video Players & Editors: 1.77\n",
      "Casual: 1.76\n",
      "Maps & Navigation: 1.39\n",
      "Food & Drink: 1.24\n",
      "Puzzle: 1.13\n",
      "Racing: 0.99\n",
      "Role Playing: 0.94\n",
      "Libraries & Demo: 0.94\n",
      "Auto & Vehicles: 0.93\n",
      "Strategy: 0.9\n",
      "House & Home: 0.8\n",
      "Weather: 0.79\n",
      "Events: 0.71\n",
      "Adventure: 0.67\n",
      "Comics: 0.6\n",
      "Beauty: 0.6\n",
      "Art & Design: 0.6\n",
      "Parenting: 0.5\n",
      "Card: 0.45\n",
      "Trivia: 0.42\n",
      "Casino: 0.42\n",
      "Educational;Education: 0.4\n",
      "Board: 0.38\n",
      "Educational: 0.37\n",
      "Education;Education: 0.34\n",
      "Word: 0.26\n",
      "Casual;Pretend Play: 0.24\n",
      "Music: 0.2\n",
      "Racing;Action & Adventure: 0.17\n",
      "Puzzle;Brain Games: 0.17\n",
      "Entertainment;Music & Video: 0.17\n",
      "Casual;Brain Games: 0.14\n",
      "Casual;Action & Adventure: 0.14\n",
      "Arcade;Action & Adventure: 0.12\n",
      "Action;Action & Adventure: 0.1\n",
      "Educational;Pretend Play: 0.09\n",
      "Simulation;Action & Adventure: 0.08\n",
      "Parenting;Education: 0.08\n",
      "Entertainment;Brain Games: 0.08\n",
      "Board;Brain Games: 0.08\n",
      "Parenting;Music & Video: 0.07\n",
      "Educational;Brain Games: 0.07\n",
      "Casual;Creativity: 0.07\n",
      "Art & Design;Creativity: 0.07\n",
      "Education;Pretend Play: 0.06\n",
      "Role Playing;Pretend Play: 0.05\n",
      "Education;Creativity: 0.05\n",
      "Role Playing;Action & Adventure: 0.03\n",
      "Puzzle;Action & Adventure: 0.03\n",
      "Entertainment;Creativity: 0.03\n",
      "Entertainment;Action & Adventure: 0.03\n",
      "Educational;Creativity: 0.03\n",
      "Educational;Action & Adventure: 0.03\n",
      "Education;Music & Video: 0.03\n",
      "Education;Brain Games: 0.03\n",
      "Education;Action & Adventure: 0.03\n",
      "Adventure;Action & Adventure: 0.03\n",
      "Video Players & Editors;Music & Video: 0.02\n",
      "Sports;Action & Adventure: 0.02\n",
      "Simulation;Pretend Play: 0.02\n",
      "Puzzle;Creativity: 0.02\n",
      "Music;Music & Video: 0.02\n",
      "Entertainment;Pretend Play: 0.02\n",
      "Casual;Education: 0.02\n",
      "Board;Action & Adventure: 0.02\n",
      "Video Players & Editors;Creativity: 0.01\n",
      "Trivia;Education: 0.01\n",
      "Travel & Local;Action & Adventure: 0.01\n",
      "Tools;Education: 0.01\n",
      "Strategy;Education: 0.01\n",
      "Strategy;Creativity: 0.01\n",
      "Strategy;Action & Adventure: 0.01\n",
      "Simulation;Education: 0.01\n",
      "Role Playing;Brain Games: 0.01\n",
      "Racing;Pretend Play: 0.01\n",
      "Puzzle;Education: 0.01\n",
      "Parenting;Brain Games: 0.01\n",
      "Music & Audio;Music & Video: 0.01\n",
      "Lifestyle;Pretend Play: 0.01\n",
      "Lifestyle;Education: 0.01\n",
      "Health & Fitness;Education: 0.01\n",
      "Health & Fitness;Action & Adventure: 0.01\n",
      "Entertainment;Education: 0.01\n",
      "Communication;Creativity: 0.01\n",
      "Comics;Creativity: 0.01\n",
      "Casual;Music & Video: 0.01\n",
      "Card;Action & Adventure: 0.01\n",
      "Books & Reference;Education: 0.01\n",
      "Art & Design;Pretend Play: 0.01\n",
      "Art & Design;Action & Adventure: 0.01\n",
      "Arcade;Pretend Play: 0.01\n",
      "Adventure;Education: 0.01\n"
     ]
    }
   ],
   "source": [
    "print('Android:')\n",
    "print('\\n')\n",
    "display_list(desc_ord_andr_cat)\n",
    "print('\\n')\n",
    "print('-----------')\n",
    "print('\\n')\n",
    "display_list(desc_ord_andr_gen)"
   ]
  },
  {
   "cell_type": "markdown",
   "metadata": {},
   "source": [
    "In Android, genre-wise, the most common would be \"Tools\" but considering the categories, then \"Family\" would be the most common one. \n",
    "\n",
    "Games seems to be on the second place (category-wise), but that should be reconsidered, as \"Family\" also have a lot of games on them made for kids, so it happens more or less the same as IOS. Despite creators are able to choose, if they have an app with hybrid categories, they may choose one or the other based on what they think that fits better their app. \n",
    "\n",
    "On one hand, in Android, Tools, Business and Productivity seems to be on the top 5 (summing almost 17% of the apps); which could mean that Android users are usually more interested into getting apps that helps them in their daily lives.\n",
    "\n",
    "On the other hand, in IOS, Utility, Productivity and Business falls almost to the bottom of the list (summing almost 5% of the apps), which shows that Android users seems to be more concerned about those topics, whereas IOS users prefer to enjoy games over the rest of the categories. \n",
    "\n",
    "If the company is going to invest money into creating a great app, then they should go for a gaming one. Despite not having more information about the mean time spent on each category, it is not difficult to conceive that people will tend to spent more time playing games than using a productivity/utility tool, which also allows more room for advertisements to be displayed.\n",
    "\n",
    "One way to find out what genres are the most popular (have the most users) is to calculate the average number of installs for each app genre. For the Google Play data set, we can find this information in the Installs column, but this information is missing for the App Store data set. To be fair, I will consider the Reviews column in Android and the rating_count_tot in IOS, as a proxy to be able to compare the number of installs each category has in both stores.\n",
    "\n",
    "***\n",
    "\n",
    "## Calculating the average number of user ratings per app genre\n",
    "\n",
    "To do that, we'll need to:\n",
    "\n",
    "* Isolate the apps of each genre.\n",
    "* Sum up the user ratings for the apps of that genre. \n",
    "* Divide the sum by the number of apps belonging to that genre (not by the total number of apps)."
   ]
  },
  {
   "cell_type": "code",
   "execution_count": 150,
   "metadata": {
    "scrolled": false
   },
   "outputs": [
    {
     "name": "stdout",
     "output_type": "stream",
     "text": [
      "Android (number reviews / app category): \n",
      "------------\n",
      "\n",
      "\n",
      "COMMUNICATION: 999090\n",
      "SOCIAL: 965831\n",
      "GAME: 684290\n",
      "VIDEO_PLAYERS: 425350\n",
      "PHOTOGRAPHY: 404081\n",
      "TOOLS: 306550\n",
      "ENTERTAINMENT: 301752\n",
      "SHOPPING: 223887\n",
      "PERSONALIZATION: 181122\n",
      "WEATHER: 173680\n",
      "PRODUCTIVITY: 160635\n",
      "MAPS_AND_NAVIGATION: 143611\n",
      "TRAVEL_AND_LOCAL: 129484\n",
      "SPORTS: 117317\n",
      "FAMILY: 113211\n",
      "NEWS_AND_MAGAZINES: 93088\n",
      "BOOKS_AND_REFERENCE: 88461\n",
      "HEALTH_AND_FITNESS: 78095\n",
      "FOOD_AND_DRINK: 57479\n",
      "EDUCATION: 56293\n",
      "COMICS: 43372\n",
      "FINANCE: 38536\n",
      "LIFESTYLE: 34119\n",
      "HOUSE_AND_HOME: 27113\n",
      "ART_AND_DESIGN: 24699\n",
      "BUSINESS: 24240\n",
      "DATING: 21953\n",
      "PARENTING: 16379\n",
      "AUTO_AND_VEHICLES: 14140\n",
      "LIBRARIES_AND_DEMO: 10926\n",
      "BEAUTY: 7476\n",
      "MEDICAL: 3730\n",
      "EVENTS: 2556\n",
      "\n",
      "\n",
      "IOS (number reviews / app category):\n",
      "------------\n",
      "\n",
      "\n",
      "Navigation: 86090\n",
      "Reference: 79350\n",
      "Social Networking: 71548\n",
      "Music: 57327\n",
      "Weather: 52280\n",
      "Book: 46385\n",
      "Food & Drink: 33334\n",
      "Finance: 32367\n",
      "Photo & Video: 28442\n",
      "Travel: 28244\n",
      "Shopping: 27231\n",
      "Health & Fitness: 23298\n",
      "Sports: 23009\n",
      "Games: 22886\n",
      "News: 21248\n",
      "Productivity: 21028\n",
      "Utilities: 19156\n",
      "Lifestyle: 16815\n",
      "Entertainment: 14195\n",
      "Business: 7491\n",
      "Education: 7004\n",
      "Catalogs: 4004\n",
      "Medical: 612\n"
     ]
    }
   ],
   "source": [
    "def genre_isolation(a_list, genre_ind, user_rat_ind):\n",
    "    a_dictionary = {}\n",
    "    total_apps_genre = {}\n",
    "    \n",
    "    for each_app in a_list:\n",
    "        genre = each_app[genre_ind]\n",
    "        user_rat = float(each_app[user_rat_ind])\n",
    "        if genre in a_dictionary:\n",
    "            a_dictionary[genre] += user_rat\n",
    "            total_apps_genre[genre] +=1\n",
    "        else:\n",
    "            a_dictionary[genre] = user_rat\n",
    "            total_apps_genre[genre] =1\n",
    "    \n",
    "    another_list = []\n",
    "    for each_item in a_dictionary:\n",
    "        genre = each_item\n",
    "        value = round(a_dictionary[genre]/total_apps_genre[genre]) #Number of reviews / number of apps per genre\n",
    "        another_list.append((value, genre))\n",
    "        \n",
    "    \n",
    "    return sorted(another_list, reverse = True)\n",
    "\n",
    "android_reviews_per_genre = genre_isolation(free_apps_cleaned, 1, 3)\n",
    "ios_reviews_per_genre = genre_isolation(free_ios_apps, 11, 5)\n",
    "\n",
    "print('Android (number reviews / app category): ')\n",
    "print('------------')\n",
    "print('\\n')\n",
    "display_list(android_reviews_per_genre)\n",
    "print('\\n')\n",
    "print('IOS (number reviews / app category):')\n",
    "print('------------')\n",
    "print('\\n')\n",
    "display_list(ios_reviews_per_genre)\n",
    "#free_apps_cleaned\n",
    "#free_ios_apps"
   ]
  },
  {
   "cell_type": "markdown",
   "metadata": {},
   "source": [
    "***\n",
    "\n",
    "### IOS:\n",
    "\n",
    "Now based in this new information, it may suggest that the logical route when deciding about developing an app is going for the \"Navigation\" genre in IOS, but that is not completely correct. It is important to remember that those are averages, so if you have almost 90,000 in IOS, you could also have just two apps, one with 180,000 reviews and the other with barely 1, so the mean would be around 90.000 as well. This can be easily demostrated with the top 3 categories (Navigation, Reference, Social Networking and Music):"
   ]
  },
  {
   "cell_type": "code",
   "execution_count": 152,
   "metadata": {
    "scrolled": false
   },
   "outputs": [
    {
     "name": "stdout",
     "output_type": "stream",
     "text": [
      "Waze - GPS Navigation, Maps & Real-time Traffic : 345046\n",
      "Google Maps - Navigation & Transit : 154911\n",
      "Geocaching® : 12811\n",
      "CoPilot GPS – Car Navigation & Offline Maps : 3582\n",
      "ImmobilienScout24: Real Estate Search in Germany : 187\n",
      "Railway Route Search : 5\n"
     ]
    }
   ],
   "source": [
    "for each_app in free_ios_apps:\n",
    "    if each_app[11] == 'Navigation':\n",
    "        print(each_app[1], ':', each_app[5])"
   ]
  },
  {
   "cell_type": "code",
   "execution_count": 154,
   "metadata": {
    "scrolled": true
   },
   "outputs": [
    {
     "name": "stdout",
     "output_type": "stream",
     "text": [
      "Bible : 985920\n",
      "Dictionary.com Dictionary & Thesaurus : 200047\n",
      "Dictionary.com Dictionary & Thesaurus for iPad : 54175\n",
      "Google Translate : 26786\n",
      "Muslim Pro: Ramadan 2017 Prayer Times, Azan, Quran : 18418\n",
      "New Furniture Mods - Pocket Wiki & Game Tools for Minecraft PC Edition : 17588\n",
      "Merriam-Webster Dictionary : 16849\n",
      "Night Sky : 12122\n",
      "City Maps for Minecraft PE - The Best Maps for Minecraft Pocket Edition (MCPE) : 8535\n",
      "LUCKY BLOCK MOD ™ for Minecraft PC Edition - The Best Pocket Wiki & Mods Installer Tools : 4693\n",
      "GUNS MODS for Minecraft PC Edition - Mods Tools : 1497\n",
      "Guides for Pokémon GO - Pokemon GO News and Cheats : 826\n",
      "WWDC : 762\n",
      "Horror Maps for Minecraft PE - Download The Scariest Maps for Minecraft Pocket Edition (MCPE) Free : 718\n",
      "VPN Express : 14\n",
      "Real Bike Traffic Rider Virtual Reality Glasses : 8\n",
      "Jishokun-Japanese English Dictionary & Translator : 0\n"
     ]
    }
   ],
   "source": [
    "for each_app in free_ios_apps:\n",
    "    if each_app[11] == 'Reference':\n",
    "        print(each_app[1], ':', each_app[5])"
   ]
  },
  {
   "cell_type": "code",
   "execution_count": 168,
   "metadata": {},
   "outputs": [
    {
     "name": "stdout",
     "output_type": "stream",
     "text": [
      "Facebook : 2974676\n",
      "Pinterest : 1061624\n",
      "Skype for iPhone : 373519\n",
      "Messenger : 351466\n",
      "Tumblr : 334293\n",
      "WhatsApp Messenger : 287589\n",
      "Kik : 260965\n",
      "ooVoo – Free Video Call, Text and Voice : 177501\n",
      "TextNow - Unlimited Text + Calls : 164963\n",
      "Viber Messenger – Text & Call : 164249\n",
      "Followers - Social Analytics For Instagram : 112778\n",
      "MeetMe - Chat and Meet New People : 97072\n",
      "We Heart It - Fashion, wallpapers, quotes, tattoos : 90414\n",
      "InsTrack for Instagram - Analytics Plus More : 85535\n",
      "Tango - Free Video Call, Voice and Chat : 75412\n",
      "LinkedIn : 71856\n",
      "Match™ - #1 Dating App. : 60659\n",
      "Skype for iPad : 60163\n",
      "POF - Best Dating App for Conversations : 52642\n"
     ]
    }
   ],
   "source": [
    "for each_app in free_ios_apps:\n",
    "    if each_app[11] == 'Social Networking' and int(each_app[5]) > 50000:\n",
    "        print(each_app[1], ':', each_app[5])"
   ]
  },
  {
   "cell_type": "code",
   "execution_count": 170,
   "metadata": {},
   "outputs": [
    {
     "name": "stdout",
     "output_type": "stream",
     "text": [
      "Pandora - Music & Radio : 1126879\n",
      "Spotify Music : 878563\n",
      "Shazam - Discover music, artists, videos & lyrics : 402925\n",
      "iHeartRadio – Free Music & Radio Stations : 293228\n",
      "SoundCloud - Music & Audio : 135744\n",
      "Magic Piano by Smule : 131695\n",
      "Smule Sing! : 119316\n",
      "TuneIn Radio - MLB NBA Audiobooks Podcasts Music : 110420\n",
      "Amazon Music : 106235\n",
      "SoundHound Song Search & Music Player : 82602\n"
     ]
    }
   ],
   "source": [
    "for each_app in free_ios_apps:\n",
    "    if each_app[11] == 'Music' and int(each_app[5]) > 50000:\n",
    "        print(each_app[1], ':', each_app[5])"
   ]
  },
  {
   "cell_type": "markdown",
   "metadata": {},
   "source": [
    "This way we can see that there are big companies behind these top 4 categories that are quite difficult to compete with, where the difference between the top one with most reviews can, in certain cases, suppose a big part of the total number of reviews. In fact, after those 4, the number of apps and the number of reviews are quite low compared to the previous ones."
   ]
  },
  {
   "cell_type": "code",
   "execution_count": 175,
   "metadata": {},
   "outputs": [
    {
     "name": "stdout",
     "output_type": "stream",
     "text": [
      "The Weather Channel: Forecast, Radar & Alerts : 495626\n",
      "The Weather Channel App for iPad – best local forecast, radar map, and storm tracking : 208648\n",
      "WeatherBug - Local Weather, Radar, Maps, Alerts : 188583\n",
      "MyRadar NOAA Weather Radar Forecast : 150158\n",
      "AccuWeather - Weather for Life : 144214\n",
      "Yahoo Weather : 112603\n",
      "Weather Underground: Custom Forecast & Local Radar : 49192\n",
      "NOAA Weather Radar - Weather Forecast & HD Radar : 45696\n",
      "Weather Live Free - Weather Forecast & Alerts : 35702\n",
      "Storm Radar : 22792\n",
      "QuakeFeed Earthquake Map, Alerts, and News : 6081\n",
      "Moji Weather - Free Weather Forecast : 2333\n",
      "Hurricane by American Red Cross : 1158\n",
      "Forecast Bar : 375\n",
      "Hurricane Tracker WESH 2 Orlando, Central Florida : 203\n",
      "FEMA : 128\n",
      "iWeather - World weather forecast : 80\n",
      "Weather - Radar - Storm with Morecast App : 78\n",
      "Yurekuru Call : 53\n",
      "Weather & Radar : 37\n",
      "WRAL Weather Alert : 25\n",
      "Météo-France : 24\n",
      "JaxReady : 22\n",
      "Freddy the Frogcaster's Weather Station : 14\n",
      "Almanac Long-Range Weather Forecast : 12\n",
      "TodayAir : 0\n",
      "wetter.com : 0\n",
      "WarnWetter : 0\n"
     ]
    }
   ],
   "source": [
    "for each_app in free_ios_apps:\n",
    "    if each_app[11] == 'Weather':\n",
    "        print(each_app[1], ':', each_app[5])"
   ]
  },
  {
   "cell_type": "code",
   "execution_count": 174,
   "metadata": {},
   "outputs": [
    {
     "name": "stdout",
     "output_type": "stream",
     "text": [
      "Kindle – Read eBooks, Magazines & Textbooks : 252076\n",
      "Audible – audio books, original series & podcasts : 105274\n",
      "Color Therapy Adult Coloring Book for Adults : 84062\n",
      "OverDrive – Library eBooks and Audiobooks : 65450\n",
      "HOOKED - Chat Stories : 47829\n",
      "BookShout: Read eBooks & Track Your Reading Goals : 879\n",
      "Dr. Seuss Treasury — 50 best kids books : 451\n",
      "Green Riding Hood : 392\n",
      "Weirdwood Manor : 197\n",
      "MangaZERO - comic reader : 9\n",
      "ikouhoushi : 0\n",
      "MangaTiara - love comic reader : 0\n"
     ]
    }
   ],
   "source": [
    "for each_app in free_ios_apps:\n",
    "    if each_app[11] == 'Book':\n",
    "        print(each_app[1], ':', each_app[5])"
   ]
  },
  {
   "cell_type": "markdown",
   "metadata": {},
   "source": [
    "Based on this data, it might not seem to clear which option should our company go for, but once again I will recall the important points about our scope:\n",
    "1. They only build apps that are free to download and install, and their main source of revenue consists of in-app ads\n",
    "2. They are open to any kind of app there, but it has to maximize the amount of time the user will spend in our app, so we can pop-up more adds.\n",
    "\n",
    "So there might be two options here: Games, Food&Drinks and Books. Why? Because of the amount of time users need to spent on each one. When you are in game, there are a lot of ways to make you want to see an add, for instance, giving you some extra lives, money or any other feature; so we are \"playing\" with the willingness of our users, it is a trade-off. \n",
    "\n",
    "The second and third cases are really similar, people who use those apps also spent quite a lot of time on it. If you are following a recipe, it can eventually pop-up an add, and the same happens with a book. If we do not want to have intrusive adds, we can follow the same idea that was applied in the \"Games\", which is a trade-off where the customer gets a feature for a certain amount of time if they watch an add.\n",
    "\n",
    "***\n",
    "\n",
    "### Android:\n",
    "\n",
    "Let's apply the same principles for Android users."
   ]
  },
  {
   "cell_type": "code",
   "execution_count": 180,
   "metadata": {},
   "outputs": [
    {
     "name": "stdout",
     "output_type": "stream",
     "text": [
      "WhatsApp Messenger : 1,000,000,000+\n",
      "Messenger for SMS : 10,000,000+\n",
      "My Tele2 : 5,000,000+\n",
      "imo beta free calls and text : 100,000,000+\n",
      "Contacts : 50,000,000+\n",
      "Call Free – Free Call : 5,000,000+\n",
      "Web Browser & Explorer : 5,000,000+\n",
      "Browser 4G : 10,000,000+\n",
      "MegaFon Dashboard : 10,000,000+\n",
      "ZenUI Dialer & Contacts : 10,000,000+\n",
      "Cricket Visual Voicemail : 10,000,000+\n"
     ]
    }
   ],
   "source": [
    "amount_shown = 0\n",
    "for each_app in free_apps_cleaned:\n",
    "    if each_app[1] == 'COMMUNICATION' and amount_shown < 11:\n",
    "        print(each_app[0], ':', each_app[5])\n",
    "        amount_shown +=1"
   ]
  },
  {
   "cell_type": "code",
   "execution_count": 183,
   "metadata": {},
   "outputs": [
    {
     "name": "stdout",
     "output_type": "stream",
     "text": [
      "Facebook : 1,000,000,000+\n",
      "Facebook Lite : 500,000,000+\n",
      "Tumblr : 100,000,000+\n",
      "Social network all in one 2018 : 100,000+\n",
      "Pinterest : 100,000,000+\n",
      "TextNow - free text + calls : 10,000,000+\n",
      "Google+ : 1,000,000,000+\n",
      "The Messenger App : 1,000,000+\n",
      "Messenger Pro : 1,000,000+\n",
      "Free Messages, Video, Chat,Text for Messenger Plus : 1,000,000+\n",
      "Telegram X : 5,000,000+\n"
     ]
    }
   ],
   "source": [
    "amount_shown = 0\n",
    "for each_app in free_apps_cleaned:\n",
    "    if each_app[1] == 'SOCIAL' and amount_shown < 11:\n",
    "        print(each_app[0], ':', each_app[5])\n",
    "        amount_shown +=1"
   ]
  },
  {
   "cell_type": "code",
   "execution_count": 186,
   "metadata": {},
   "outputs": [
    {
     "name": "stdout",
     "output_type": "stream",
     "text": [
      "Solitaire : 10,000,000+\n",
      "Sonic Dash : 100,000,000+\n",
      "PAC-MAN : 100,000,000+\n",
      "Bubble Witch 3 Saga : 50,000,000+\n",
      "Race the Traffic Moto : 10,000,000+\n",
      "Marble - Temple Quest : 10,000,000+\n",
      "Shooting King : 10,000,000+\n",
      "Geometry Dash World : 10,000,000+\n",
      "Jungle Marble Blast : 5,000,000+\n",
      "Roll the Ball® - slide puzzle : 100,000,000+\n",
      "Block Craft 3D: Building Simulator Games For Free : 50,000,000+\n"
     ]
    }
   ],
   "source": [
    "amount_shown = 0\n",
    "for each_app in free_apps_cleaned:\n",
    "    if each_app[1] == 'GAME' and amount_shown < 11:\n",
    "        print(each_app[0], ':', each_app[5])\n",
    "        amount_shown +=1"
   ]
  },
  {
   "cell_type": "code",
   "execution_count": 188,
   "metadata": {},
   "outputs": [
    {
     "name": "stdout",
     "output_type": "stream",
     "text": [
      "YouTube : 1,000,000,000+\n",
      "All Video Downloader 2018 : 1,000,000+\n",
      "Video Downloader : 10,000,000+\n",
      "HD Video Player : 1,000,000+\n",
      "Iqiyi (for tablet) : 1,000,000+\n",
      "Video Player All Format : 10,000,000+\n",
      "Motorola Gallery : 100,000,000+\n",
      "Free TV series : 100,000+\n",
      "Video Player All Format for Android : 500,000+\n",
      "VLC for Android : 100,000,000+\n",
      "Code : 10,000,000+\n"
     ]
    }
   ],
   "source": [
    "amount_shown = 0\n",
    "for each_app in free_apps_cleaned:\n",
    "    if each_app[1] == 'VIDEO_PLAYERS' and amount_shown < 11:\n",
    "        print(each_app[0], ':', each_app[5])\n",
    "        amount_shown +=1"
   ]
  },
  {
   "cell_type": "markdown",
   "metadata": {},
   "source": [
    "Just like the issue with IOS, Android shows a top 4 full of companies with a really well set-up niche and a lot of users. Now let's see if what I recommended for IOS would apply here:"
   ]
  },
  {
   "cell_type": "code",
   "execution_count": 190,
   "metadata": {},
   "outputs": [
    {
     "name": "stdout",
     "output_type": "stream",
     "text": [
      "Complete Spanish Movies : 1,000,000+\n",
      "Pluto TV - It’s Free TV : 1,000,000+\n",
      "Mobile TV : 10,000,000+\n",
      "TV+ : 5,000,000+\n",
      "Digital TV : 5,000,000+\n",
      "Motorola Spotlight Player™ : 10,000,000+\n",
      "Vigo Lite : 5,000,000+\n",
      "Hotstar : 100,000,000+\n",
      "Peers.TV: broadcast TV channels First, Match TV, TNT ... : 5,000,000+\n",
      "The green alien dance : 1,000,000+\n",
      "Spectrum TV : 5,000,000+\n"
     ]
    }
   ],
   "source": [
    "amount_shown = 0\n",
    "for each_app in free_apps_cleaned:\n",
    "    if each_app[1] == 'ENTERTAINMENT' and amount_shown < 11:\n",
    "        print(each_app[0], ':', each_app[5])\n",
    "        amount_shown +=1"
   ]
  },
  {
   "cell_type": "code",
   "execution_count": 193,
   "metadata": {},
   "outputs": [
    {
     "name": "stdout",
     "output_type": "stream",
     "text": [
      "Jewels Crush- Match 3 Puzzle : 1,000,000+\n",
      "Coloring & Learn : 5,000,000+\n",
      "Mahjong : 5,000,000+\n",
      "Super ABC! Learning games for kids! Preschool apps : 1,000,000+\n",
      "Toy Pop Cubes : 1,000,000+\n",
      "Educational Games 4 Kids : 5,000,000+\n",
      "Candy Pop Story : 1,000,000+\n",
      "Princess Coloring Book : 5,000,000+\n",
      "Hello Kitty Nail Salon : 50,000,000+\n",
      "Candy Smash : 1,000,000+\n",
      "Happy Fruits Bomb - Cube Blast : 500,000+\n"
     ]
    }
   ],
   "source": [
    "amount_shown = 0\n",
    "for each_app in free_apps_cleaned:\n",
    "    if each_app[1] == 'FAMILY' and amount_shown < 11:\n",
    "        print(each_app[0], ':', each_app[5])\n",
    "        amount_shown +=1"
   ]
  },
  {
   "cell_type": "code",
   "execution_count": 199,
   "metadata": {},
   "outputs": [
    {
     "name": "stdout",
     "output_type": "stream",
     "text": [
      "Fox News – Breaking News, Live Video & News Alerts : 10,000,000+\n",
      "NEW - Read Newspaper, News 24h : 10,000,000+\n",
      "BaBe + - Indonesian News : 1,000,000+\n",
      "daily News : 1,000,000+\n",
      "BBC News : 10,000,000+\n",
      "Free TV Shows App:News, TV Series, Episode, Movies : 1,000,000+\n",
      "News24 : 1,000,000+\n",
      "Le Monde, the continuous news : 5,000,000+\n",
      "Wireless news : 1,000,000+\n",
      "CNN Breaking US & World News : 10,000,000+\n",
      "Gnoche entertainment news · sports news is also free : 5,000,000+\n"
     ]
    }
   ],
   "source": [
    "amount_shown = 0\n",
    "for each_app in free_apps_cleaned:\n",
    "    if each_app[1] == 'NEWS_AND_MAGAZINES' and amount_shown < 11:\n",
    "        print(each_app[0], ':', each_app[5])\n",
    "        amount_shown +=1"
   ]
  },
  {
   "cell_type": "code",
   "execution_count": 202,
   "metadata": {},
   "outputs": [
    {
     "name": "stdout",
     "output_type": "stream",
     "text": [
      "E-Book Read - Read Book for free : 50,000+\n",
      "Download free book with green book : 100,000+\n",
      "Wikipedia : 10,000,000+\n",
      "Cool Reader : 10,000,000+\n",
      "Free Panda Radio Music : 100,000+\n",
      "Book store : 1,000,000+\n",
      "FBReader: Favorite Book Reader : 10,000,000+\n",
      "English Grammar Complete Handbook : 500,000+\n",
      "Free Books - Spirit Fanfiction and Stories : 1,000,000+\n",
      "Google Play Books : 1,000,000,000+\n",
      "AlReader -any text book reader : 5,000,000+\n"
     ]
    }
   ],
   "source": [
    "amount_shown = 0\n",
    "for each_app in free_apps_cleaned:\n",
    "    if each_app[1] == 'BOOKS_AND_REFERENCE' and amount_shown < 11:\n",
    "        print(each_app[0], ':', each_app[5])\n",
    "        amount_shown +=1"
   ]
  },
  {
   "cell_type": "markdown",
   "metadata": {},
   "source": [
    "## Conclusions:\n",
    "\n",
    "Are Android and IOS users downloading/using the same kind of apps? Surely, not. In fact, Android games seems to be quite a populated one, but it also is full of possibilities based on what our company wants, which is in-app adds, and that is centainly related to the Android user's phylosophy, where they are more likely to get a free-to-use app than pay for one. But, considering that our company also needs to grow or see some revenue before launching it on IOS, which have shown to have more fun-related apps, this road might be too complicated.\n",
    "\n",
    "On the other hand, books and news seems to have a decent amount of competition but a solid niche of users as well in both stores. Considering the amount of features and improvements that could be created, all the options for in-app adds, and the fact that Android users tend to have a more balanced selection of apps downloaded, it may ease the transition from Android to IOS eventually, therefore our company may want to prefer to develop these kinds of apps first."
   ]
  }
 ],
 "metadata": {
  "kernelspec": {
   "display_name": "Python 3",
   "language": "python",
   "name": "python3"
  },
  "language_info": {
   "codemirror_mode": {
    "name": "ipython",
    "version": 3
   },
   "file_extension": ".py",
   "mimetype": "text/x-python",
   "name": "python",
   "nbconvert_exporter": "python",
   "pygments_lexer": "ipython3",
   "version": "3.7.4"
  }
 },
 "nbformat": 4,
 "nbformat_minor": 2
}
